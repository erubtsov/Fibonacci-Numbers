{
  "cells": [
    {
      "cell_type": "markdown",
      "metadata": {},
      "source": [
        "# Fibonacci Sequence Project"
      ]
    },
    {
      "cell_type": "markdown",
      "metadata": {},
      "source": [
        "### 1. Compute the values for the fibonacci sequence: $$a_{5}, a_{6}, a_{7}, a_{8}$$ "
      ]
    },
    {
      "cell_type": "markdown",
      "metadata": {},
      "source": [
        "```Python\n",
        "def fib(n):\n",
        "    a = 0\n",
        "    b = 1\n",
        "    \n",
        "    if n == 0:\n",
        "        print(a)\n",
        "        \n",
        "    elif n == 1:\n",
        "        print(b)\n",
        "    \n",
        "    else:\n",
        "        print(\"n: 0, value: \", a) \n",
        "        print(\"n: 1, value: \", b) \n",
        "        for i in range(2, n):\n",
        "            c = a + b\n",
        "            a = b\n",
        "            b = c\n",
        "            if c <= 100:\n",
        "                print(\"n: \", i, \" value: \", c) \n",
        "fib(10)\n",
        "```"
      ]
    },
    {
      "cell_type": "markdown",
      "metadata": {},
      "source": [
        "#### $a_{5} = 5; $ $a_{6} = 8; $ $a_{7} = 13; $ $a_{8} = 21$"
      ]
    },
    {
      "cell_type": "markdown",
      "metadata": {},
      "source": [
        "### 2. Write down the next few vectors $\\vec{x_{3}},\\vec{x_{4}},\\vec{x_{5}},\\vec{x_{6}},\\vec{x_{7}}$"
      ]
    },
    {
      "cell_type": "markdown",
      "metadata": {},
      "source": [
        "```Python\n",
        "\n",
        "import numpy as np\n",
        "\n",
        "def vectorFunc(n):\n",
        "    a = 0\n",
        "    b = 1\n",
        "    vec = [[a],\n",
        "           [b]]\n",
        "    vector = np.array(vec)\n",
        "    print(\"1: \", vector,\"\\n\")\n",
        "    for i in range (1, n):\n",
        "        c = a + b\n",
        "        a = b\n",
        "        b = c\n",
        "        vec = [[a],\n",
        "               [b]]\n",
        "        vector = np.array(vec)\n",
        "        if c <= 100:\n",
        "            print(i,\": \",vector,\"\\n\")\n",
        "            \n",
        "vectorFunc(100)\n",
        "```       "
      ]
    },
    {
      "cell_type": "markdown",
      "metadata": {},
      "source": [
        "$\\vec{x_{3}} = \\begin{bmatrix} 2 \\\\ 3 \\end{bmatrix}, \\vec{x_{4}} = \\begin{bmatrix} 3 \\\\ 5 \\end{bmatrix}, \\vec{x_{5}} = \\begin{bmatrix} 5 \\\\ 8\\end{bmatrix}, \\vec{x_{6}} = \\begin{bmatrix} 8 \\\\ 13 \\end{bmatrix}, \\vec{x_{7}} = \\begin{bmatrix} 13 \\\\ 21 \\end{bmatrix}$  \n"
      ]
    },
    {
      "cell_type": "markdown",
      "metadata": {},
      "source": [
        "### 3. Show that A computes Fibonacci numbers:"
      ]
    },
    {
      "cell_type": "markdown",
      "metadata": {},
      "source": [
        "*A* = $\\begin{bmatrix} 0 & 1 \\\\ 1 & 1 \\end{bmatrix}$"
      ]
    },
    {
      "cell_type": "markdown",
      "metadata": {},
      "source": [
        "#### (a) Compute the products *A*$\\vec{x_{j}}$ for *j* = 1,2,3,4. What do you notice?"
      ]
    },
    {
      "cell_type": "markdown",
      "metadata": {},
      "source": [
        "```Python\n",
        "import numpy as np\n",
        "\n",
        "def vectorMultiply(j):\n",
        "    a = 0\n",
        "    b = 1\n",
        "    vec = [[a],\n",
        "           [b]]\n",
        "    A = [[0,1],[1,1]]\n",
        "    vector = np.array(vec)\n",
        "    matrixA = np.array(A)\n",
        "    print(\"0: \", matrixA@vector,\"\\n\")\n",
        "    for i in range (1, j):\n",
        "        c = a + b\n",
        "        a = b\n",
        "        b = c\n",
        "        vec = [[a],\n",
        "               [b]]\n",
        "        vector = np.array(vec)\n",
        "        result = matrixA@vector\n",
        "        if c <= 100:\n",
        "            print(i,\": \",result,\"\\n\")\n",
        "            \n",
        "vectorMultiply(100)\n",
        "```"
      ]
    },
    {
      "cell_type": "markdown",
      "metadata": {},
      "source": [
        "*A*$\\vec{x_{1}} = \\begin{bmatrix} 0 & 1 \\\\ 1 & 1 \\end{bmatrix},$\n",
        "*A*$\\vec{x_{2}} = \\begin{bmatrix} 0 & 1 \\\\ 2 & 2 \\end{bmatrix},$\n",
        "*A*$\\vec{x_{3}} = \\begin{bmatrix} 0 & 2 \\\\ 3 & 3 \\end{bmatrix},$\n",
        "*A*$\\vec{x_{4}} = \\begin{bmatrix} 0 & 3 \\\\ 5 & 5 \\end{bmatrix},$\n"
      ]
    },
    {
      "cell_type": "markdown",
      "metadata": {},
      "source": [
        "It is noteworthy that the last element in every matrix is the first element in every next matrix. The second row of matrix A has a dupicate of the upcoming fibonacci number, due to both columns of row 2 being 1.\n",
        "This helps demonstrate that applying this matrix to one of the defined vectors gives the next vector in the sequence."
      ]
    },
    {
      "cell_type": "markdown",
      "metadata": {},
      "source": [
        "Known Fibonacci Sequence: \n",
        "  $\\vec{x_{n}} =  \\begin{bmatrix} \\vec{a_{n}} \\\\ \\vec{a_{n+1}}\\end{bmatrix}$\n",
        "\n",
        "$A\\vec{x_{n}} = \\begin{bmatrix} 0 & 1 \\\\ 1 & 1 \\end{bmatrix}\\begin{bmatrix} \\vec{a_{n}} \\\\ \\vec{a_{n+1}} \\end{bmatrix}$\n",
        "--> For n=1, $\\vec{a_{1}}$ is 0. $\\vec{a_{2}}$ can be assigned to $\\vec{a_{n}}$:\n",
        "This yields the vector:-->\n",
        "$\\begin{bmatrix} \\vec 0 \\\\ \\vec{a_{n}}\\end{bmatrix}$\n",
        "--> For n=2, $\\vec{x_{2}} = \\begin{bmatrix} \\vec{a_{n}} \\\\ \\vec{a_{n+1}}\\end{bmatrix}$\n",
        "\n",
        "-->This pattern continues for all real n:\n",
        "$\\vec{x_{n+1}} = \\begin{bmatrix} \\vec{a_{n+1}} \\\\ \\vec{a_{n+2}}\\end{bmatrix}$"
      ]
    },
    {
      "cell_type": "markdown",
      "metadata": {},
      "source": [
        "#### C)\n",
        "By Induction:\n",
        "\n",
        "$\\vec{y_{1}}$ = A$\\vec{y_{0}}$ \n",
        "\n",
        "Base case\n",
        "\n",
        "if $\\vec{y_{n-1}}$ = $A{^{(n-1)}}$$\\vec{y_{0}}$, we know that $A\\vec{y_{n-1}}$ = $\\vec{y_{n}}$\n",
        "\n",
        "$\\vec{y_{n-1}}$ = $A{^{(n-1)}}\\vec{y_{0}}$\n",
        "\n",
        "Therefore,\n",
        "$\\vec{y_{n}}$ = $A{^{n}}\\vec{y_{0}}$"
      ]
    },
    {
      "cell_type": "code",
      "execution_count": null,
      "metadata": {
        "trusted": true
      },
      "outputs": [
        {
          "name": "stdout",
          "output_type": "stream",
          "text": [
            "values: [-0.61803399  1.61803399]\n",
            "vectors: [[-0.85065081 -0.52573111]\n",
            " [ 0.52573111 -0.85065081]]\n"
          ]
        }
      ],
      "source": [
        "import numpy as py\n",
        "from numpy.linalg import eig\n",
        "A = np.array([[0,1],[1,1]])\n",
        "values, vectors = eig(A)\n",
        "print(\"values:\", values)\n",
        "print(\"vectors:\", vectors)"
      ]
    },
    {
      "cell_type": "markdown",
      "metadata": {},
      "source": [
        "\n",
        "### 4.\n",
        "#### A)Eigenvalues of A\n",
        "  $\\lambda_{1} = \\phi_{1}$     ;      $\\lambda_{2} = \\phi{_{2}}: $\n",
        "  \n",
        "  -0.61803399,           1.61803399\n",
        "  \n",
        "  (1-$\\sqrt(5)$)/2  ;  (1+$\\sqrt(5)$)/2\n",
        "\n",
        "#### B) Non-zero Eigenvectors of A\n",
        "\n",
        "$\\begin{bmatrix} -\\phi_{1}&0 \\\\ 0&\\phi_{1} \\end{bmatrix}$ $\\begin{bmatrix} x \\\\ y \\end{bmatrix}$ = 0   \n",
        "\n",
        "$-\\phi_{1}x$ + y = 0\n",
        "\n",
        "y = $\\phi_{1}$x\n",
        "\n",
        "$\\vec{v_{1}} = \\begin{bmatrix} 1 \\\\ \\phi_{1} \\end{bmatrix}$ -> Same thing for $\\vec{v_{2}}$ \n",
        "->\n",
        "$\\vec{v_{2}} = \\begin{bmatrix} 1 \\\\ \\phi_{2} \\end{bmatrix}$"
      ]
    },
    {
      "cell_type": "markdown",
      "metadata": {},
      "source": [
        "#### 5. Diagnolized Matrix\n",
        "\n",
        "D = $\\begin{bmatrix} \\phi_{1}&0 \\\\ 0&\\phi_{2} \\end{bmatrix}$ \n",
        "\n",
        "P = $\\begin{bmatrix} 1&1 \\\\ \\phi_{1}&\\phi_{2} \\end{bmatrix}$ \n",
        "\n",
        "$P{^{-1}} = \\frac{1}{(\\phi{_{2}} - \\phi{_{1}})} \\begin{bmatrix} \\phi_{2}&-1 \\\\ -\\phi_{1}&1 \\end{bmatrix}$ \n"
      ]
    },
    {
      "cell_type": "markdown",
      "metadata": {},
      "source": [
        "#### 6. Formula for $A{^{n}}$\n",
        "\n",
        "$A{^{2}} = A * A = (PDP{^{-1}})(PDP{^{-1}})$ -> $PP{^{-1}} = 1$  \n",
        "$DD = D{^{2}}$\n",
        "= $PD{^{2}}P{^{-1}}$\n",
        "\n",
        "Therefore,\n",
        "\n",
        "$A{^{n}} = P\\begin{bmatrix}\\phi{_{1}}{^{n}}&0 \\\\ 0&\\phi{_{2}}{^{n}}\\end{bmatrix}P{^{-1}}$\n",
        "\n",
        "$A{^{n}} = P\\begin{bmatrix}\\phi{_{1}}{^{n}}&0 \\\\ 0&\\phi{_{2}}{^{n}}\\end{bmatrix}P{^{-1}}$\n",
        "\n",
        "$A{^{n}} = \\begin{bmatrix} 1&1 \\\\ \\phi{_{1}}&\\phi{_{2}}\\end{bmatrix}\\begin{bmatrix}\\phi{_{1}}{^{n}}&0 \\\\ 0&\\phi{_{2}}{^{n}}\\end{bmatrix}\\begin{bmatrix}\\phi{_{2}}&-1 \\\\ -\\phi{_{1}}&1\\end{bmatrix}$\n",
        "\n",
        "$A{^{n}} = \\begin{bmatrix}\\phi{_{1}}{^{n}}\\phi{_{2}} - \\phi{_{2}}{^{n}}\\phi{_{1}} & \\phi{_{2}}{^{n}} - \\phi{_{1}}{^{n}} \\\\\\phi{_{2}}{^{n+1}} - \\phi{_{2}} & \\phi{_{2}}{^{n+1}}-\\phi{_{1}}{^{n+1}}\\end{bmatrix}\\frac{1}{(\\phi{_{2}} - \\phi{_{1}})}$\n",
        "\n",
        "$A{^{n}} = \\begin{bmatrix}\\phi{_{2}}{^{n-1}} - \\phi{_{1}}{^{n-1}} & \\phi{_{2}}{^{n}} - \\phi{_{1}}{^{n}} \\\\\\phi{_{2}}{^{n+1}} - \\phi{_{2}} & \\phi{_{2}}{^{n+1}}-\\phi{_{1}}{^{n+1}}\\end{bmatrix}\\frac{1}{(\\phi{_{2}} - \\phi{_{1}})}$\n",
        "\n"
      ]
    },
    {
      "cell_type": "markdown",
      "metadata": {},
      "source": [
        "#### 7. Find a formula for $\\vec{a{^n}}$\n",
        "\n",
        "$\\vec{x_{n}} = A{^{n}}\\vec{x_{0}}$\n",
        "\n",
        "$\\vec{x_{n}}$ = $\\frac{1}{(\\phi{_{2}} - \\phi{_{1}})}$ $\\begin{bmatrix}\\phi{_{2}}{^{n-1}} - \\phi{_{1}}{^{n-1}} & \\phi{_{2}}{^{n}} - \\phi{_{1}}{^{n}} \\\\ \\phi{_{2}}{^{n+1}} - \\phi{_{2}} & \\phi{_{2}}{^{n+1}}-\\phi{_{1}}{^{n+1}}\\end{bmatrix}$\n",
        "\n",
        "$\\vec{x_{n}}$ = $\\frac{1}{(\\phi{_{2}} - \\phi{_{1}})}$ $\\begin{bmatrix}\\phi{_{2}}{^{n}} - \\phi{_{1}}{^{n}}\\\\ \\phi{_{2}}{^{n+1}} - \\phi{_{1}}{^{n+1}}\\end{bmatrix}$ \n",
        "\n",
        "$\\vec{x_{2}} = \\begin{bmatrix}a{_{2}}\\\\ a{_{3}}\\end{bmatrix}$. First row is $\\vec{a_{n}}$\n",
        "\n",
        "$\\vec{x_{0}}$ = $\\frac{1}{(\\phi{_{2}} - \\phi{_{1}})}$ $\\begin{bmatrix}\\phi{_{2}}{^{n-1}} - \\phi{_{1}}{^{n-1}} & \\phi{_{2}}{^{n}} - \\phi{_{1}}{^{n}} \\\\ \\phi{_{2}}{^{n+1}} - \\phi{_{2}} & \\phi{_{2}}{^{n+1}}-\\phi{_{1}}{^{n+1}}\\end{bmatrix}\\begin{bmatrix} 0 \\\\ 1 \\end{bmatrix}$\n",
        "\n",
        "$\\vec{x_{0}}$ = $\\frac{1}{(\\phi{_{2}} - \\phi{_{1}})}$ $\\begin{bmatrix} 0 \\\\ \\phi{_{2}} - \\phi{_{1}} \\end{bmatrix}$ \n",
        "\n",
        "Check:\n",
        "\n",
        "$\\vec{x_{2}}$ = $\\frac{1}{(\\phi{_{2}} - \\phi{_{1}})}$ $\\begin{bmatrix} \\phi{_{2}}{^{2}} - \\phi{_{1}}{^{2}} \\\\ \\phi{_{2}}{^{3}} - \\phi{_{1}}{^{3}} \\end{bmatrix}$ = $\\begin{bmatrix} 1 \\\\ 2 \\end{bmatrix}$\n",
        "\n",
        "-- Therefore,\n",
        "\n",
        "$\\vec{a_{n}} = \\frac{\\phi{_{2}}{^{n}} - \\phi{_{1}}{^{n}}}{\\phi{_{2}} - \\phi{_{1}}}$\n"
      ]
    },
    {
      "cell_type": "markdown",
      "metadata": {},
      "source": [
        "#### 8. Making a good approximation for $\\vec{a_{n}}$ using the fact that $lim{_{n->infinity}} = 0$\n",
        "\n",
        "$lim{_{n->infinity}}\\vec{a{_n}} = \\frac{\\phi{_{2}}{^{n}} - \\phi{_{1}}{^{n}}}{\\phi{_{2}} - \\phi{_{1}}}$\n",
        "\n",
        "For large values of n, $\\phi{_{2}}{^{n}}$ goes to 0, so the approximation is\n",
        "\n",
        "$\\vec{a{_n}}$ is approximately equal to $\\frac{\\phi{_{1}}{^{n}}}{\\phi{_{2}} - \\phi{_{1}}}$ for large values of n"
      ]
    },
    {
      "cell_type": "markdown",
      "metadata": {},
      "source": [
        "# Pell Numbers"
      ]
    },
    {
      "cell_type": "markdown",
      "metadata": {},
      "source": [
        "## 1.\n",
        "```Python\n",
        "def pell(n):\n",
        "    a = 0\n",
        "    b = 1\n",
        "    \n",
        "    if n == 0:\n",
        "        print(a)\n",
        "        \n",
        "    elif n == 1:\n",
        "        print(b)\n",
        "    \n",
        "    else:\n",
        "        print(\"n: 0, value: \", a) \n",
        "        print(\"n: 1, value: \", b) \n",
        "        for i in range(2, n):\n",
        "            c = a + 2*b\n",
        "            a = b\n",
        "            b = c\n",
        "            if c <= 1000:\n",
        "                print(\"n: \", i, \" value: \", c) \n",
        "pell(10)\n",
        "```"
      ]
    },
    {
      "cell_type": "markdown",
      "metadata": {},
      "source": [
        "#### $a_{5} = 29; $ $a_{6} = 70; $ $a_{7} = 169; $ $a_{8} = 408 $"
      ]
    },
    {
      "cell_type": "markdown",
      "metadata": {},
      "source": [
        "```Python\n",
        "import numpy as np\n",
        "\n",
        "def vectorFunc(n):\n",
        "    a = 0\n",
        "    b = 1\n",
        "    vec = [[a],\n",
        "           [b]]\n",
        "    vector = np.array(vec)\n",
        "    print(\"1: \", vector,\"\\n\")\n",
        "    for i in range (1, n):\n",
        "        c = a + 2*b\n",
        "        a = b\n",
        "        b = c\n",
        "        vec = [[a],\n",
        "               [b]]\n",
        "        vector = np.array(vec)\n",
        "        if c <= 1000:\n",
        "            print(i,\": \",vector,\"\\n\")\n",
        "            \n",
        "vectorFunc(100)\n",
        "```"
      ]
    },
    {
      "cell_type": "markdown",
      "metadata": {},
      "source": [
        "$\\vec{x_{3}} = \\begin{bmatrix}5\\\\12\\end{bmatrix}$\n",
        "$\\vec{x_{4}} = \\begin{bmatrix}12\\\\29\\end{bmatrix}$ \n",
        "$\\vec{x_{5}} = \\begin{bmatrix}29\\\\70\\end{bmatrix}$ \n",
        "$\\vec{x_{6}} = \\begin{bmatrix}70\\\\169\\end{bmatrix}$ \n",
        "$\\vec{x_{7}} = \\begin{bmatrix}169\\\\408\\end{bmatrix}$ "
      ]
    },
    {
      "cell_type": "markdown",
      "metadata": {},
      "source": [
        "## 3.\n",
        "```Python\n",
        "def vectorMultiply(j):\n",
        "    a = 0\n",
        "    b = 1\n",
        "    vec = [[a],\n",
        "           [b]]\n",
        "    B = [[0,1],[1,1]]\n",
        "    vector = np.array(vec)\n",
        "    matrixA = np.array(A)\n",
        "    print(\"0: \", matrixA@vector,\"\\n\")\n",
        "    for i in range (1, j):\n",
        "        c = a + 2*b\n",
        "        a = b\n",
        "        b = c\n",
        "        vec = [[a],\n",
        "               [b]]\n",
        "        vector = np.array(vec)\n",
        "        result = matrixA@vector\n",
        "        if c <= 1000:\n",
        "            print(i,\": \",result,\"\\n\")\n",
        "            \n",
        "vectorMultiply(100)\n",
        "``` "
      ]
    },
    {
      "cell_type": "markdown",
      "metadata": {},
      "source": [
        "### a)\n",
        "$\\vec{x_{1}} = \\begin{bmatrix}12\\\\17\\end{bmatrix}$ \n",
        "$\\vec{x_{2}} = \\begin{bmatrix}29\\\\41\\end{bmatrix}$ \n",
        "$\\vec{x_{3}} = \\begin{bmatrix}70\\\\99\\end{bmatrix}$ \n",
        "$\\vec{x_{4}} = \\begin{bmatrix}169\\\\239\\end{bmatrix}$ "
      ]
    },
    {
      "cell_type": "markdown",
      "metadata": {},
      "source": [
        "### b)\n",
        "Known Pell Sequence: \n",
        "$\\vec{x_{n}} =  \\begin{bmatrix} \\vec{a_{n}} \\\\ \\vec{2a_{n+1}}\\end{bmatrix}$\n",
        "  \n",
        "$\\vec{x_{n+1}} = B\\vec{x{_n}}$ \n",
        "\n",
        "$\\begin{bmatrix} \\vec{a_{n+1}} \\\\ \\vec{a_{n+2}}\\end{bmatrix}$ = $\\begin{bmatrix} b&c \\\\ d&e\\end{bmatrix}$$\\begin{bmatrix} \\vec{a_{n}} \\\\ \\vec{2a_{n+1}}\\end{bmatrix}$\n",
        "\n",
        "$\\vec{a_{n+1}}$ =  $b\\vec{a_{n}}$ + $c\\vec{a_{n+1}}$\n",
        "\n",
        "b = 0; c = 1\n",
        "\n",
        "$\\vec{a_{n+2}}$ =  $d\\vec{a_{n}}$ + $e\\vec{2a_{n+1}}$\n",
        "\n",
        "d = 1; e = 2\n",
        "\n",
        "Therefore, matrix B:\n",
        "\n",
        "$\\begin{bmatrix} 0&1 \\\\ 1&2\\end{bmatrix}$\n",
        "\n",
        "--> For n=1, $\\vec{a_{1}}$ is 0. $\\vec{a_{2}}$ can be assigned to $\\vec{a_{n}}$:\n",
        "This yields the vector:-->\n",
        "$\\begin{bmatrix} \\vec 0 \\\\ \\vec{2a_{n}}\\end{bmatrix}$\n",
        "--> For n=2, $\\vec{x_{2}} = \\begin{bmatrix} \\vec{a_{n}} \\\\ \\vec{2a_{n+1}}\\end{bmatrix}$\n",
        "\n",
        "-->This pattern continues for all real n:\n",
        "$\\vec{x_{n+1}} = \\begin{bmatrix} \\vec{a_{n+1}} \\\\ \\vec{2a_{n+2}}\\end{bmatrix}$"
      ]
    },
    {
      "cell_type": "markdown",
      "metadata": {},
      "source": [
        "#### C)\n",
        "By induction: \n",
        "$\\vec{y_{1}}$ = $B\\vec{y_{0}}$ \n",
        "\n",
        "Base case\n",
        "\n",
        "if $\\vec{y_{n-1}}$ = $B{^{(n-1)}}\\vec{y_{0}}$, we know that $B\\vec{y_{n-1}}$ = $\\vec{y_{n}}$\n",
        "\n",
        "$\\vec{y_{n-1}}$ = $B{^{(n-1)}}\\vec{y_{0}}$\n",
        "\n",
        "Therefore,\n",
        "$\\vec{y_{n}}$ = $B{^{n}}\\vec{y_{0}}$\n"
      ]
    },
    {
      "cell_type": "code",
      "execution_count": null,
      "metadata": {
        "trusted": true
      },
      "outputs": [
        {
          "name": "stdout",
          "output_type": "stream",
          "text": [
            "values: [-0.41421356  2.41421356]\n",
            "vectors: [[-0.92387953 -0.38268343]\n",
            " [ 0.38268343 -0.92387953]]\n"
          ]
        }
      ],
      "source": [
        "import numpy as py\n",
        "from numpy.linalg import eig\n",
        "B = np.array([[0,1],[1,2]])\n",
        "values, vectors = eig(B)\n",
        "print(\"values:\", values)\n",
        "print(\"vectors:\", vectors)"
      ]
    },
    {
      "cell_type": "markdown",
      "metadata": {},
      "source": [
        "\n",
        "### 4.\n",
        "#### A)Eigenvalues of B\n",
        "  $\\lambda_{1} = \\omega_{1}=-0.41421356$ \n",
        "  $\\lambda_{2} = \\omega_{2}=2.41421356$   \n",
        "\n",
        "#### B) Non-zero Eigenvectors of B\n",
        "\n",
        "$\\begin{bmatrix} -\\omega_{1}&0 \\\\ 0&\\omega_{1} \\end{bmatrix}$ $\\begin{bmatrix} x \\\\ y \\end{bmatrix}$ = 0   \n",
        "\n",
        "$-\\omega_{1}x$ + y = 0\n",
        "\n",
        "y = $\\omega{_{1}}x$\n",
        "\n",
        "$\\vec{v_{1}} = \\begin{bmatrix} 1 \\\\ \\omega_{1} \\end{bmatrix}$ -> Same thing for $\\vec{v_{2}}$ \n",
        "->\n",
        "$\\vec{v_{2}} = \\begin{bmatrix} 1 \\\\ \\omega_{2} \\end{bmatrix}$"
      ]
    },
    {
      "cell_type": "markdown",
      "metadata": {},
      "source": [
        "#### 5. Diagnolized Matrix\n",
        "\n",
        "D = $\\begin{bmatrix} \\omega_{1}&0 \\\\ 0&\\omega_{2} \\end{bmatrix}$ \n",
        "\n",
        "P = $\\begin{bmatrix} 1&1 \\\\ \\omega_{1}&\\omega_{2} \\end{bmatrix}$ \n",
        "\n",
        "$P{^{-1}} = \\frac{1}{(\\omega{_{2}} - \\omega{_{1}})} \\begin{bmatrix} \\omega_{2}&-1 \\\\ -\\omega_{1}&1 \\end{bmatrix}$ "
      ]
    },
    {
      "cell_type": "markdown",
      "metadata": {},
      "source": [
        "#### 6. Formula for $B{^{n}}$\n",
        "\n",
        "$B{^{2}} = B * B = (PDP{^{-1}})(PDP{^{-1}})$ -> $PP{^{-1}} = 1$  \n",
        "$DD = D{^{2}}$\n",
        "= $PD{^{2}}P{^{-1}}$\n",
        "\n",
        "Therefore,\n",
        "\n",
        "$B{^{n}} = P\\begin{bmatrix}\\omega{_{1}}{^{n}}&0 \\\\ 0&\\omega{_{2}}{^{n}}\\end{bmatrix}P{^{-1}}$\n",
        "\n",
        "$B{^{n}} = P\\begin{bmatrix}\\omega{_{1}}{^{n}}&0 \\\\ 0&\\omega{_{2}}{^{n}}\\end{bmatrix}P{^{-1}}$\n",
        "\n",
        "$B{^{n}} = \\begin{bmatrix} 1&1 \\\\ \\omega{_{1}}&\\omega{_{2}}\\end{bmatrix}\\begin{bmatrix}\\omega{_{1}}{^{n}}&0 \\\\ 0&\\omega{_{2}}{^{n}}\\end{bmatrix}\\begin{bmatrix}\\omega{_{2}}&-1 \\\\ -\\omega{_{1}}&1\\end{bmatrix}$\n",
        "\n",
        "$B{^{n}} = \\begin{bmatrix}\\omega{_{1}}{^{n}}\\omega{_{2}} - \\omega{_{2}}{^{n}}\\omega{_{1}} & \\omega{_{2}}{^{n}} - \\omega{_{1}}{^{n}} \\\\\\omega{_{2}}{^{n+1}} - \\omega{_{2}} & \\omega{_{2}}{^{n+1}}-\\omega{_{1}}{^{n+1}}\\end{bmatrix}\\frac{1}{(\\omega{_{2}} - \\omega{_{1}})}$\n",
        "\n",
        "$B{^{n}} = \\begin{bmatrix}\\omega{_{2}}{^{n-1}} - \\omega{_{1}}{^{n-1}} & \\omega{_{2}}{^{n}} - \\omega{_{1}}{^{n}} \\\\\\omega{_{2}}{^{n+1}} - \\omega{_{2}} & \\omega{_{2}}{^{n+1}}-\\omega{_{1}}{^{n+1}}\\end{bmatrix}\\frac{1}{(\\omega{_{2}} - \\omega{_{1}})}$\n"
      ]
    },
    {
      "cell_type": "markdown",
      "metadata": {},
      "source": [
        "#### 7. Find a formula for $\\vec{a{^n}}$\n",
        "\n",
        "$\\vec{x_{n}} = A{^{n}}\\vec{x_{0}}$\n",
        "\n",
        "$\\vec{x_{n}}$ = $\\frac{1}{(\\omega{_{2}} - \\omega{_{1}})}$ $\\begin{bmatrix}\\omega{_{2}}{^{n-1}} - \\omega{_{1}}{^{n-1}} & \\omega{_{2}}{^{n}} - \\omega{_{1}}{^{n}} \\\\ \\omega{_{2}}{^{n+1}} - \\omega{_{2}} & \\omega{_{2}}{^{n+1}}-\\omega{_{1}}{^{n+1}}\\end{bmatrix}$\n",
        "\n",
        "$\\vec{x_{n}}$ = $\\frac{1}{(\\omega{_{2}} - \\omega{_{1}})}$ $\\begin{bmatrix}\\phi{_{2}}{^{n}} - \\phi{_{1}}{^{n}}\\\\ \\omega{_{2}}{^{n+1}} - \\omega{_{1}}{^{n+1}}\\end{bmatrix}$ \n",
        "\n",
        "$\\vec{x_{2}} = \\begin{bmatrix}a{_{2}}\\\\ a{_{3}}\\end{bmatrix}$. First row is $\\vec{a_{n}}$\n",
        "\n",
        "$\\vec{x_{0}}$ = $\\frac{1}{(\\omega{_{2}} - \\omega{_{1}})}$ $\\begin{bmatrix}\\omega{_{2}}{^{n-1}} - \\omega{_{1}}{^{n-1}} & \\omega{_{2}}{^{n}} - \\omega{_{1}}{^{n}} \\\\ \\omega{_{2}}{^{n+1}} - \\omega{_{2}} & \\omega{_{2}}{^{n+1}}-\\omega{_{1}}{^{n+1}}\\end{bmatrix}\\begin{bmatrix} 0 \\\\ 1 \\end{bmatrix}$\n",
        "\n",
        "$\\vec{x_{0}}$ = $\\frac{1}{(\\omega{_{2}} - \\omega{_{1}})}$ $\\begin{bmatrix} 0 \\\\ \\omega{_{2}} - \\omega{_{1}} \\end{bmatrix}$ \n",
        "\n",
        "Check:\n",
        "\n",
        "$\\vec{x_{2}}$ = $\\frac{1}{(\\omega{_{2}} - \\omega{_{1}})}$ $\\begin{bmatrix} \\omega{_{2}}{^{2}} - \\omega{_{1}}{^{2}} \\\\ \\omega{_{2}}{^{3}} - \\omega{_{1}}{^{3}} \\end{bmatrix}$ = $\\begin{bmatrix} 1 \\\\ 2 \\end{bmatrix}$\n",
        "\n",
        "-- Therefore,\n",
        "$\\vec{a_{n}} = \\frac{\\omega{_{2}}{^{n}} - \\omega{_{1}}{^{n}}}{\\omega{_{2}} - \\omega{_{1}}}$"
      ]
    },
    {
      "cell_type": "markdown",
      "metadata": {},
      "source": [
        "#### 8. Making a good approximation for $\\vec{a_{n}}$ using the fact that $lim{_{n->infinity}} = 0$\n",
        "\n",
        "$lim{_{n->infinity}}\\vec{a{_n}} = \\frac{\\omega{_{2}}{^{n}} - \\omega{_{1}}{^{n}}}{\\omega{_{2}} - \\omega{_{1}}}$\n",
        "\n",
        "For large values of n, $\\omega{_{2}}{^{n}}$ goes to 0, so the approximation is\n",
        "\n",
        "$\\vec{a{_n}}$ is approximately equal to $\\frac{\\omega{_{1}}{^{n}}}{\\omega{_{2}} - \\omega{_{1}}}$ for large values of n"
      ]
    }
  ],
  "metadata": {
    "kernelspec": {
      "display_name": "Python (Pyodide)",
      "language": "python",
      "name": "python"
    },
    "language_info": {
      "codemirror_mode": {
        "name": "python",
        "version": 3
      },
      "file_extension": ".py",
      "mimetype": "text/x-python",
      "name": "python",
      "nbconvert_exporter": "python",
      "pygments_lexer": "ipython3",
      "version": "3.8"
    }
  },
  "nbformat": 4,
  "nbformat_minor": 4
}
